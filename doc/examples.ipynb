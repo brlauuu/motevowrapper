{
 "metadata": {
  "language_info": {
   "codemirror_mode": {
    "name": "ipython",
    "version": 3
   },
   "file_extension": ".py",
   "mimetype": "text/x-python",
   "name": "python",
   "nbconvert_exporter": "python",
   "pygments_lexer": "ipython3",
   "version": "3.7.3-final"
  },
  "orig_nbformat": 2,
  "kernelspec": {
   "name": "python3",
   "display_name": "Python 3.7.3 64-bit",
   "metadata": {
    "interpreter": {
     "hash": "31f2aee4e71d21fbe5cf8b01ff0e069b9275f58929596ceb00d14d90e3e16cd6"
    }
   }
  }
 },
 "nbformat": 4,
 "nbformat_minor": 2,
 "cells": [
  {
   "cell_type": "code",
   "execution_count": null,
   "metadata": {},
   "outputs": [],
   "source": [
    "import motevowrapper.motevowrapper as mw"
   ]
  },
  {
   "source": [
    "# Running MotEvo"
   ],
   "cell_type": "markdown",
   "metadata": {}
  },
  {
   "cell_type": "code",
   "execution_count": null,
   "metadata": {},
   "outputs": [],
   "source": [
    "mw.check_installation()"
   ]
  },
  {
   "cell_type": "code",
   "execution_count": null,
   "metadata": {},
   "outputs": [],
   "source": [
    "mw.run_motevo(\n",
    "    sequences_file=\"../motevowrapper/tests/data/zebrafish_alignments.aln\",\n",
    "    working_directory=\"./\",\n",
    "    wm_path=\"../motevowrapper/tests/data/pwmdir/REST.wm\",\n",
    "    tree=\"((((astMex:0.415917,pygNat:0.449133):0.099801,ictPun:0.50305):0.04815395,danRer11:0.55291):0.0098669,esoLuc:0.7121605);\",\n",
    "    ref_species=\"danRer11\",\n",
    "    em_prior=0,\n",
    "    ufe_wm_prior=500,\n",
    "    ufe_wm_file=\"../motevowrapper/tests/data/UFEmodel\",\n",
    "    ufe_wm_len=\"auto\",\n",
    "    background_prior=0.8,\n",
    ")"
   ]
  },
  {
   "source": [
    "# Visualizing results"
   ],
   "cell_type": "markdown",
   "metadata": {}
  },
  {
   "cell_type": "code",
   "execution_count": null,
   "metadata": {},
   "outputs": [],
   "source": [
    "df = mw.parse_sites(\"../motevowrapper/tests/data/sites_REST.wm\")\n",
    "df.head()"
   ]
  },
  {
   "cell_type": "code",
   "execution_count": null,
   "metadata": {},
   "outputs": [],
   "source": [
    "mw.plot_site_distribution(\"REST\", df)"
   ]
  },
  {
   "cell_type": "code",
   "execution_count": null,
   "metadata": {},
   "outputs": [],
   "source": []
  }
 ]
}